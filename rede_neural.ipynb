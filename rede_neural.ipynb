{
  "nbformat": 4,
  "nbformat_minor": 0,
  "metadata": {
    "colab": {
      "provenance": [],
      "collapsed_sections": [
        "pYjqruybYRUV",
        "sm-w3IftYWS6",
        "H-SxR-afbrnE",
        "5OusILpsbysp",
        "gL9wZDyFcbk6",
        "kUWTXE-Dcefm",
        "GXDVPZwIcn-S",
        "TQbCGeNzdQtN",
        "sft-61hkgDSd",
        "sEW912NydbiT",
        "zmyw_L2ub4Xw"
      ]
    },
    "kernelspec": {
      "name": "python3",
      "display_name": "Python 3"
    },
    "language_info": {
      "name": "python"
    }
  },
  "cells": [
    {
      "cell_type": "markdown",
      "source": [
        "### **Classe Rede Neural**"
      ],
      "metadata": {
        "id": "Rb4Jn38owbhB"
      }
    },
    {
      "cell_type": "markdown",
      "source": [
        "### **Imports**"
      ],
      "metadata": {
        "id": "pYjqruybYRUV"
      }
    },
    {
      "cell_type": "code",
      "source": [
        "!pip install svgwrite"
      ],
      "metadata": {
        "id": "OYxHaW6gZQI9"
      },
      "execution_count": null,
      "outputs": []
    },
    {
      "cell_type": "code",
      "source": [
        "import numpy as np"
      ],
      "metadata": {
        "id": "QeBceH5nwjk3"
      },
      "execution_count": null,
      "outputs": []
    },
    {
      "cell_type": "code",
      "source": [
        "from sklearn.datasets import fetch_openml\n",
        "from sklearn.model_selection import train_test_split\n",
        "from keras.utils import to_categorical"
      ],
      "metadata": {
        "id": "bPp7a6rkNo0E"
      },
      "execution_count": null,
      "outputs": []
    },
    {
      "cell_type": "markdown",
      "source": [
        "### **Rede Neural**"
      ],
      "metadata": {
        "id": "sm-w3IftYWS6"
      }
    },
    {
      "cell_type": "code",
      "source": [
        "import svgwrite\n",
        "import numpy as np\n",
        "\n",
        "class RedeNeuralProfunda():\n",
        "  \"\"\"\n",
        "  Classe para a rede neural profunda.\n",
        "  \"\"\"\n",
        "  def __init__(self, arquitetura, caminho_modelo=None, epocas=10, taxa_aprendizado=0.05):\n",
        "    \"\"\"\n",
        "    Inicializa a rede neural profunda.\n",
        "\n",
        "    Parâmetros:\n",
        "    - arquitetura: lista com a arquitetura da rede\n",
        "    - caminho_modelo: caminho para o arquivo de modelo (matrizes numpy .npz)\n",
        "    - epocas: número de épocas de treinamento\n",
        "    - taxa_aprendizado: taxa de aprendizado\n",
        "    \"\"\"\n",
        "    self.arquitetura = arquitetura\n",
        "    self.num_camadas = len(self.arquitetura)\n",
        "    self.epocas = epocas\n",
        "    self.taxa_aprendizado = taxa_aprendizado\n",
        "    self.parametros = {}\n",
        "\n",
        "    # Carregar pesos:\n",
        "    if caminho_modelo:\n",
        "      pesos = np.load(caminho_modelo, allow_pickle=True) # pesos em arquivo .npz\n",
        "      for chave, valor in pesos.items():\n",
        "        self.parametros[chave] = valor\n",
        "    else:\n",
        "      self.inicializarPesos()\n",
        "\n",
        "    # Inicializar matrizes vazias:\n",
        "    for i in range(self.num_camadas):\n",
        "      if not i == 0:\n",
        "        self.parametros[f\"Z{i}\"] = None\n",
        "      self.parametros[f\"N{i}\"] = None\n",
        "\n",
        "  def inicializarPesos(self, semente=1):\n",
        "    \"\"\"\n",
        "    Inicializa os pesos da rede neural.\n",
        "    \"\"\"\n",
        "    np.random.seed(semente)\n",
        "\n",
        "    for i in range(1, self.num_camadas):\n",
        "      self.parametros[f\"P{i}\"] = np.random.randn(self.arquitetura[i], self.arquitetura[i-1])\n",
        "\n",
        "  def salvarPesos(self, caminho=\"pesos.npz\"):\n",
        "    \"\"\"\n",
        "    Salva os pesos da rede neural em um arquivo .npz.\n",
        "\n",
        "    Parâmetros:\n",
        "    - caminho: caminho para o arquivo de saída\n",
        "    \"\"\"\n",
        "    np.savez(caminho, **self.parametros)\n",
        "\n",
        "\n",
        "  def numeroParametros(self):\n",
        "    \"\"\"\n",
        "    Retorna o número total de parâmetros da rede neural.\n",
        "    \"\"\"\n",
        "    parametros = {\n",
        "        \"Treináveis\": 0,\n",
        "        \"Não-treináveis\": 0\n",
        "    }\n",
        "\n",
        "    for i in range(self.num_camadas - 1):\n",
        "      parametros[\"Treináveis\"] += self.arquitetura[i] * self.arquitetura[i+1]\n",
        "\n",
        "    for i in range(self.num_camadas):\n",
        "      parametros[\"Não-treináveis\"] += self.arquitetura[i]\n",
        "\n",
        "    return parametros\n",
        "\n",
        "  def desenharArquitetura(self):\n",
        "    \"\"\"\n",
        "    Desenhar arquitetura da rede.\n",
        "    \"\"\"\n",
        "    arquitetura = self.arquitetura\n",
        "    num_camadas = len(arquitetura)\n",
        "    largura = num_camadas * 500\n",
        "    altura = max(arquitetura) * 20 + 20\n",
        "    dwg = svgwrite.Drawing('arquitetura.svg', profile='tiny', size=(largura, altura))\n",
        "    dwg.add(dwg.rect(insert=(0, 0), size=(largura, altura), rx=None, ry=None, fill='white', stroke='black'))\n",
        "\n",
        "    espaco = (largura / num_camadas) - 10\n",
        "    tamanho = 10\n",
        "\n",
        "    # desenhar pesos:\n",
        "    for i in range(num_camadas - 1):\n",
        "      for j in range(arquitetura[i]):\n",
        "        for k in range(arquitetura[i+1]):\n",
        "          x_start = i * espaco + (espaco / 2)\n",
        "          y_start = j * (tamanho * 2) + (tamanho / 2) + ((altura - ((tamanho * 2) * arquitetura[i])) / 2) + tamanho\n",
        "          x_end = (i + 1) * espaco + (espaco / 2)\n",
        "          y_end = k * (tamanho * 2) + (tamanho / 2) + ((altura - ((tamanho * 2) * arquitetura[i+1])) / 2) + tamanho\n",
        "\n",
        "          dwg.add(dwg.line(start=(x_start, y_start), end=(x_end, y_end), stroke='black', stroke_width=0.5))\n",
        "\n",
        "    # desenhar neurônios:\n",
        "    for i in range(num_camadas):\n",
        "      for j in range(arquitetura[i]):\n",
        "        x = i * espaco + (espaco / 2)\n",
        "        y = j * (tamanho * 2) + (tamanho / 2) + ((altura - ((tamanho * 2) * arquitetura[i])) / 2) + tamanho\n",
        "\n",
        "        dwg.add(dwg.circle(center=(x, y), r=tamanho, stroke='black', fill='blue', stroke_width=0.5))\n",
        "\n",
        "    dwg.save()\n",
        "\n",
        "  def sigmoid(self, x, derivada=False):\n",
        "    \"\"\"\n",
        "    Função de ativação sigmoid.\n",
        "\n",
        "    Parâmetros:\n",
        "    - x: entrada\n",
        "    - derivada: se True, retorna a derivada da função sigmoid\n",
        "    \"\"\"\n",
        "    if derivada:\n",
        "      return (np.exp(-x))/((np.exp(-x)+1)**2)\n",
        "    return 1/(1 + np.exp(-x))\n",
        "\n",
        "  def softmax(self, x, derivada=False):\n",
        "    \"\"\"\n",
        "    Função de ativação softmax.\n",
        "\n",
        "    Parâmetros:\n",
        "    - x: entrada\n",
        "    - derivada: se True, retorna a derivada da função softmax\n",
        "    \"\"\"\n",
        "    exps = np.exp(x - x.max())\n",
        "    if derivada:\n",
        "      return exps / np.sum(exps, axis=0) * (1 - exps / np.sum(exps, axis=0))\n",
        "\n",
        "  def propogar(self, entrada):\n",
        "    \"\"\"\n",
        "    Propaga a entrada para a rede neural.\n",
        "\n",
        "    Parâmetros:\n",
        "    - entrada: entrada da rede\n",
        "    \"\"\"\n",
        "    parametros = self.parametros\n",
        "\n",
        "    parametros[\"N0\"] = entrada\n",
        "\n",
        "    for cont in range(1, self.num_camadas):\n",
        "      parametros[f\"Z{cont}\"] = np.dot(parametros[f\"P{cont}\"], parametros[f\"N{cont-1}\"])\n",
        "      parametros[f\"N{cont}\"] = self.sigmoid(parametros[f\"Z{cont}\"])\n",
        "\n",
        "    return parametros[f\"N{self.num_camadas - 1}\"]\n",
        "\n",
        "  def retroPropagar(self, saida, target):\n",
        "    \"\"\"\n",
        "    Retro-propaga o erro para a rede neural.\n",
        "\n",
        "    Parâmetros:\n",
        "    - saida: saída da rede\n",
        "    - target: target da rede\n",
        "    \"\"\"\n",
        "    parametros = self.parametros\n",
        "    ajustar_pesos = {}\n",
        "\n",
        "    erro = 2 * (target - saida) / target.shape[0] * self.softmax(self.parametros[f\"Z{self.num_camadas - 1}\"], derivada=True)\n",
        "    ajustar_pesos[f\"P{self.num_camadas - 1}\"] = np.outer(erro, parametros[f\"N{self.num_camadas - 2}\"])\n",
        "\n",
        "    for cont in range(self.num_camadas - 1, 2, -1):\n",
        "      erro = np.dot(parametros[f\"P{cont}\"].T, erro) * self.sigmoid(parametros[f\"Z{cont - 1}\"], derivada=True)\n",
        "      ajustar_pesos[f\"P{cont - 1}\"] = np.outer(erro, parametros[f\"N{cont - 2}\"])\n",
        "\n",
        "    return ajustar_pesos\n",
        "\n",
        "  def atualizarParametros(self, ajustar_para_pesos):\n",
        "    \"\"\"\n",
        "    Atualiza os pesos da rede neural.\n",
        "\n",
        "    Parâmetros:\n",
        "    - ajustar_para_pesos: dicionário com os pesos a serem atualizados\n",
        "    \"\"\"\n",
        "    for chave, valor in ajustar_para_pesos.items():\n",
        "      self.parametros[chave] -= self.taxa_aprendizado * valor\n",
        "\n",
        "  def calcularAcuracia(self, x_entrada, y_saida):\n",
        "    \"\"\"\n",
        "    Calcula a acurácia da rede neural.\n",
        "\n",
        "    Parâmetros:\n",
        "    - x_entrada: entradas da rede\n",
        "    - y_saida: saidas\n",
        "    \"\"\"\n",
        "    predicao = []\n",
        "\n",
        "    for x, y in zip(x_entrada, y_saida):\n",
        "      saida = self.propogar(x)\n",
        "      pred = np.argmax(saida)\n",
        "      predicao.append(pred == np.argmax(y))\n",
        "\n",
        "    return np.mean(predicao)\n",
        "\n",
        "  def treinamento(self, x_treino, y_treino, x_teste, y_teste):\n",
        "    \"\"\"\n",
        "    Treina a rede neural.\n",
        "\n",
        "    Parâmetros:\n",
        "    - x_treino: entradas de treinamento\n",
        "    - y_treino: saidas de treinamento\n",
        "    - x_teste: entradas de teste\n",
        "    - y_teste: saidas de teste\n",
        "    \"\"\"\n",
        "    for interacao in range(self.epocas):\n",
        "      for x, y in zip(x_treino, y_treino):\n",
        "        saida = self.propogar(x)\n",
        "        ajustar_para_pesos = self.retroPropagar(y, saida)\n",
        "        self.atualizarParametros(ajustar_para_pesos)\n",
        "\n",
        "      acuracia = self.calcularAcuracia(x_teste, y_teste)\n",
        "      print(f\"Época: {interacao+1} | Acurácia: {acuracia * 100}\")\n"
      ],
      "metadata": {
        "id": "nsZ2ENHpa7Yc"
      },
      "execution_count": null,
      "outputs": []
    },
    {
      "cell_type": "markdown",
      "source": [
        "### **Instanciando modelo**"
      ],
      "metadata": {
        "id": "H-SxR-afbrnE"
      }
    },
    {
      "cell_type": "code",
      "source": [
        "rede = RedeNeuralProfunda([100, 500, 400, 5], epocas=10)"
      ],
      "metadata": {
        "id": "LHjhFI5pdG1Q"
      },
      "execution_count": null,
      "outputs": []
    },
    {
      "cell_type": "markdown",
      "source": [
        "### **Número de parâmetros**"
      ],
      "metadata": {
        "id": "5OusILpsbysp"
      }
    },
    {
      "cell_type": "code",
      "source": [
        "rede.numeroParametros()"
      ],
      "metadata": {
        "id": "p-m9xummaDvx"
      },
      "execution_count": null,
      "outputs": []
    },
    {
      "cell_type": "markdown",
      "source": [
        "## **Validando com MNist**"
      ],
      "metadata": {
        "id": "zrp9v_isb-6g"
      }
    },
    {
      "cell_type": "markdown",
      "source": [
        "### **Instaciando modelo**"
      ],
      "metadata": {
        "id": "gL9wZDyFcbk6"
      }
    },
    {
      "cell_type": "code",
      "source": [
        "rede = RedeNeuralProfunda([784, 100, 50, 10], epocas=5)"
      ],
      "metadata": {
        "id": "QXqJd4zdwn3e"
      },
      "execution_count": null,
      "outputs": []
    },
    {
      "cell_type": "markdown",
      "source": [
        "### **Obtendo os dados**"
      ],
      "metadata": {
        "id": "kUWTXE-Dcefm"
      }
    },
    {
      "cell_type": "code",
      "source": [
        "x, y = fetch_openml('mnist_784', version=1, return_X_y=True, parser='auto')"
      ],
      "metadata": {
        "id": "3ZPkskOGx_lu"
      },
      "execution_count": null,
      "outputs": []
    },
    {
      "cell_type": "markdown",
      "source": [
        "### **Preparando os dados**"
      ],
      "metadata": {
        "id": "GXDVPZwIcn-S"
      }
    },
    {
      "cell_type": "code",
      "source": [
        "x = (x/255).astype('float32') # normalização"
      ],
      "metadata": {
        "id": "VxYI2fr_yCP_"
      },
      "execution_count": null,
      "outputs": []
    },
    {
      "cell_type": "code",
      "source": [
        "y = to_categorical(y) # one-hot encoding"
      ],
      "metadata": {
        "id": "uhi1p0o6yHpb"
      },
      "execution_count": null,
      "outputs": []
    },
    {
      "cell_type": "code",
      "source": [
        "x_train, x_val, y_train, y_val = train_test_split(x, y, test_size=0.2, random_state=22) # dividir em treino e teste"
      ],
      "metadata": {
        "id": "sjHrgON8ySV3"
      },
      "execution_count": null,
      "outputs": []
    },
    {
      "cell_type": "code",
      "source": [
        "# convertendo para numpy array:\n",
        "x_train = x_train.to_numpy()\n",
        "x_val = x_val.to_numpy()"
      ],
      "metadata": {
        "id": "qoeV8O-qz4Wg"
      },
      "execution_count": null,
      "outputs": []
    },
    {
      "cell_type": "markdown",
      "source": [
        "### **Treinamento**"
      ],
      "metadata": {
        "id": "TQbCGeNzdQtN"
      }
    },
    {
      "cell_type": "code",
      "source": [
        "rede.treinamento(x_train, y_train, x_val, y_val)"
      ],
      "metadata": {
        "id": "CIYDlA5OyfL5",
        "colab": {
          "base_uri": "https://localhost:8080/"
        },
        "outputId": "270d72bc-e112-4163-e811-7c24d1fcb3af"
      },
      "execution_count": null,
      "outputs": [
        {
          "output_type": "stream",
          "name": "stdout",
          "text": [
            "Época: 1 | Acurácia: 49.55714285714286\n",
            "Época: 2 | Acurácia: 58.871428571428574\n",
            "Época: 3 | Acurácia: 62.56428571428572\n",
            "Época: 4 | Acurácia: 64.37142857142857\n",
            "Época: 5 | Acurácia: 65.85\n",
            "Época: 6 | Acurácia: 71.52142857142857\n",
            "Época: 7 | Acurácia: 72.99285714285715\n",
            "Época: 8 | Acurácia: 73.90714285714286\n",
            "Época: 9 | Acurácia: 74.62142857142857\n",
            "Época: 10 | Acurácia: 75.22142857142858\n"
          ]
        }
      ]
    },
    {
      "cell_type": "markdown",
      "source": [
        "### **Salvando Modelo**"
      ],
      "metadata": {
        "id": "sft-61hkgDSd"
      }
    },
    {
      "cell_type": "code",
      "source": [
        "rede.salvarPesos()"
      ],
      "metadata": {
        "id": "cLH1sk2_gGcB"
      },
      "execution_count": null,
      "outputs": []
    },
    {
      "cell_type": "markdown",
      "source": [
        "### **E se quisermos acelerar?**"
      ],
      "metadata": {
        "id": "sEW912NydbiT"
      }
    },
    {
      "cell_type": "code",
      "source": [
        "import cupy as cp\n",
        "import numpy as np\n",
        "import time\n",
        "\n",
        "N = 10000 # tamanho da matriz\n",
        "\n",
        "# criando matrizes aleatórias:\n",
        "matrix_a_cpu = np.random.rand(N, N).astype(np.float32)\n",
        "matrix_b_cpu = np.random.rand(N, N).astype(np.float32)\n",
        "\n",
        "# tempo de multiplicação na CPU:\n",
        "start_time_cpu = time.time()\n",
        "result_cpu = np.dot(matrix_a_cpu, matrix_b_cpu)\n",
        "end_time_cpu = time.time()\n",
        "cpu_time = end_time_cpu - start_time_cpu\n",
        "\n",
        "# transferindo matrizes para GPU:\n",
        "matrix_a_gpu = cp.array(matrix_a_cpu)\n",
        "matrix_b_gpu = cp.array(matrix_b_cpu)\n",
        "\n",
        "# tempo de multiplicação na GPU:\n",
        "start_time_gpu = time.time()\n",
        "result_gpu = cp.dot(matrix_a_gpu, matrix_b_gpu)\n",
        "end_time_gpu = time.time()\n",
        "gpu_time = end_time_gpu - start_time_gpu\n",
        "\n",
        "# convertendo o resultado da GPU para CPU (opcional):\n",
        "result_gpu_cpu = cp.asnumpy(result_gpu)\n",
        "\n",
        "print(f\"Tempo de execução na CPU: {cpu_time:.6f} segundos\")\n",
        "print(f\"Tempo de execução na GPU: {gpu_time:.6f} segundos\")"
      ],
      "metadata": {
        "colab": {
          "base_uri": "https://localhost:8080/"
        },
        "id": "0f4vsmIzRgFY",
        "outputId": "255d7b9f-257e-435d-f53c-06297064e0e1"
      },
      "execution_count": null,
      "outputs": [
        {
          "output_type": "stream",
          "name": "stdout",
          "text": [
            "Tempo de execução na CPU: 16.285794 segundos\n",
            "Tempo de execução na GPU: 0.001233 segundos\n"
          ]
        }
      ]
    },
    {
      "cell_type": "markdown",
      "source": [
        "### **Visualização da Arquitetura**"
      ],
      "metadata": {
        "id": "zmyw_L2ub4Xw"
      }
    },
    {
      "cell_type": "code",
      "source": [
        "rede.desenharArquitetura()"
      ],
      "metadata": {
        "id": "7Z1vJw0BaO6w"
      },
      "execution_count": null,
      "outputs": []
    }
  ]
}